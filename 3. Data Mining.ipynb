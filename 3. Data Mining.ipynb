{
 "cells": [
  {
   "cell_type": "markdown",
   "metadata": {
    "id": "YHt-tAir6Nli"
   },
   "source": [
    "# Phase 3: Generating Frequent Itemsets and Mining Association Rules "
   ]
  },
  {
   "cell_type": "markdown",
   "metadata": {},
   "source": [
    "**Summary**\n",
    "\n",
    "1. Importing necessary libraries and the datasets\n",
    "\n",
    "\n",
    "2. Transforming the datasets\n",
    "    * Transforming order_products__prior.csv\n",
    "        1. Dropped \"add_to_cart_order\" and \"reordered\" columns.\n",
    "        ---\n",
    "    * Transforming cleaned_orders.csv\n",
    "        1. Dropped all the columns except, \"order_id\" and \"user_id\"\n",
    "        2. Investigated minimum and maximum number of transactions made in the dataset.\n",
    "        3. Performed random sampling and obtained 3 random order_ids from each user.\n",
    "        ---\n",
    "    * Obtained transactions from randomly sampled order_ids.\n",
    "        1. Obtained transactions from the randomly sampled order_ids.\n",
    "        2. Justified the data loss that occured while acquiring transactions.\n",
    "\n",
    "\n",
    "3. Investigating missing products\n",
    "    * Checking for missing products in transactions variable when compared to products.csv\n",
    "        1. Found 1888 missing products\n",
    "        ---\n",
    "    * Checking for missing products in order_products in order_products__prior.csv\n",
    "        1. Found 11 missing products\n",
    "        ---\n",
    "    * Checking for missing products in transactions variable when compared to order_products__prior.csv\n",
    "        1. Found 1877 missing products\n",
    "        ---\n",
    "    * Summary of this section i.e. Investigating missing products\n",
    "    ---\n",
    "    * Obtained product with highest count/frequency among the 1877 missing products.\n",
    "    ---\n",
    "\n",
    "\n",
    "4. Prooved that all the missing products from the transactions variable can be ignored.\n",
    "\n",
    "\n",
    "--> The doubt starts here\n",
    "\n",
    "5. Deciding support and confidence\n",
    "\n",
    "6. Using FP-Growth algorithm to mine strong association rules."
   ]
  },
  {
   "cell_type": "markdown",
   "metadata": {
    "id": "MgoIoTi_6TeG"
   },
   "source": [
    "## ---- Importing necessary libraries and datasets ----"
   ]
  },
  {
   "cell_type": "code",
   "execution_count": null,
   "metadata": {
    "colab": {
     "base_uri": "https://localhost:8080/"
    },
    "executionInfo": {
     "elapsed": 6611,
     "status": "ok",
     "timestamp": 1639399298602,
     "user": {
      "displayName": "52_Rajiwate AbdulBasit",
      "photoUrl": "https://lh3.googleusercontent.com/a-/AOh14GgOryrdlri9oeQ0b9C0VoxeBQddhqUjl1k3fKla=s64",
      "userId": "12599837119363407512"
     },
     "user_tz": -330
    },
    "id": "Rax39NIJZkt5",
    "outputId": "c9dce636-d8c7-4182-dfc3-eb99f96e0f0f"
   },
   "outputs": [
    {
     "name": "stdout",
     "output_type": "stream",
     "text": [
      "Collecting pyfpgrowth\n",
      "  Downloading pyfpgrowth-1.0.tar.gz (1.6 MB)\n",
      "\u001b[K     |████████████████████████████████| 1.6 MB 5.3 MB/s \n",
      "\u001b[?25hBuilding wheels for collected packages: pyfpgrowth\n",
      "  Building wheel for pyfpgrowth (setup.py) ... \u001b[?25l\u001b[?25hdone\n",
      "  Created wheel for pyfpgrowth: filename=pyfpgrowth-1.0-py2.py3-none-any.whl size=5504 sha256=e62c4fb959abd3335a5f4fb9f2bc0b3915dff64436210773840c9e0bfa73ea0d\n",
      "  Stored in directory: /root/.cache/pip/wheels/73/97/4b/f12ac994f6bbb99597396255435824c73ad3916be1e678be55\n",
      "Successfully built pyfpgrowth\n",
      "Installing collected packages: pyfpgrowth\n",
      "Successfully installed pyfpgrowth-1.0\n"
     ]
    }
   ],
   "source": [
    "!pip install pyfpgrowth"
   ]
  },
  {
   "cell_type": "code",
   "execution_count": 7,
   "metadata": {
    "id": "p8RW5aSx3Mjh"
   },
   "outputs": [],
   "source": [
    "import pandas as pd\n",
    "import numpy as np\n",
    "import seaborn as sns\n",
    "from random import randint\n",
    "import joblib\n",
    "import pyfpgrowth as fp\n",
    "from mlxtend.frequent_patterns import association_rules"
   ]
  },
  {
   "cell_type": "code",
   "execution_count": 9,
   "metadata": {
    "id": "-lXaN8Fy3ZJ7"
   },
   "outputs": [],
   "source": [
    "order_prod_df = pd.read_csv(\"order_products__prior.csv\") \n",
    "orders_df = pd.read_csv(\"cleaned_orders.csv\")\n",
    "products_df = pd.read_csv(\"products.csv\")\n",
    "aisles_df = pd.read_csv('aisles.csv')\n",
    "depts_df = pd.read_csv('departments.csv')"
   ]
  },
  {
   "cell_type": "markdown",
   "metadata": {
    "id": "fD5JqljF6pRd"
   },
   "source": [
    "## ---- Transforming the datasets ----"
   ]
  },
  {
   "cell_type": "markdown",
   "metadata": {
    "id": "Lpzk_tic6xlQ"
   },
   "source": [
    "### ---> Transforming order_products__prior.csv"
   ]
  },
  {
   "cell_type": "code",
   "execution_count": null,
   "metadata": {
    "colab": {
     "base_uri": "https://localhost:8080/",
     "height": 244
    },
    "executionInfo": {
     "elapsed": 438,
     "status": "ok",
     "timestamp": 1639296592992,
     "user": {
      "displayName": "52_Rajiwate AbdulBasit",
      "photoUrl": "https://lh3.googleusercontent.com/a-/AOh14GgOryrdlri9oeQ0b9C0VoxeBQddhqUjl1k3fKla=s64",
      "userId": "12599837119363407512"
     },
     "user_tz": -330
    },
    "id": "DgCdGujh5dVo",
    "outputId": "5371fb17-8e48-4209-d135-23af8d693034"
   },
   "outputs": [
    {
     "name": "stdout",
     "output_type": "stream",
     "text": [
      "(32434489, 4)\n"
     ]
    },
    {
     "data": {
      "text/html": [
       "<div>\n",
       "<style scoped>\n",
       "    .dataframe tbody tr th:only-of-type {\n",
       "        vertical-align: middle;\n",
       "    }\n",
       "\n",
       "    .dataframe tbody tr th {\n",
       "        vertical-align: top;\n",
       "    }\n",
       "\n",
       "    .dataframe thead th {\n",
       "        text-align: right;\n",
       "    }\n",
       "</style>\n",
       "<table border=\"1\" class=\"dataframe\">\n",
       "  <thead>\n",
       "    <tr style=\"text-align: right;\">\n",
       "      <th></th>\n",
       "      <th>order_id</th>\n",
       "      <th>product_id</th>\n",
       "      <th>add_to_cart_order</th>\n",
       "      <th>reordered</th>\n",
       "    </tr>\n",
       "  </thead>\n",
       "  <tbody>\n",
       "    <tr>\n",
       "      <th>0</th>\n",
       "      <td>2</td>\n",
       "      <td>33120</td>\n",
       "      <td>1</td>\n",
       "      <td>1</td>\n",
       "    </tr>\n",
       "    <tr>\n",
       "      <th>1</th>\n",
       "      <td>2</td>\n",
       "      <td>28985</td>\n",
       "      <td>2</td>\n",
       "      <td>1</td>\n",
       "    </tr>\n",
       "    <tr>\n",
       "      <th>2</th>\n",
       "      <td>2</td>\n",
       "      <td>9327</td>\n",
       "      <td>3</td>\n",
       "      <td>0</td>\n",
       "    </tr>\n",
       "    <tr>\n",
       "      <th>3</th>\n",
       "      <td>2</td>\n",
       "      <td>45918</td>\n",
       "      <td>4</td>\n",
       "      <td>1</td>\n",
       "    </tr>\n",
       "    <tr>\n",
       "      <th>4</th>\n",
       "      <td>2</td>\n",
       "      <td>30035</td>\n",
       "      <td>5</td>\n",
       "      <td>0</td>\n",
       "    </tr>\n",
       "  </tbody>\n",
       "</table>\n",
       "</div>"
      ],
      "text/plain": [
       "   order_id  product_id  add_to_cart_order  reordered\n",
       "0         2       33120                  1          1\n",
       "1         2       28985                  2          1\n",
       "2         2        9327                  3          0\n",
       "3         2       45918                  4          1\n",
       "4         2       30035                  5          0"
      ]
     },
     "execution_count": 3,
     "metadata": {},
     "output_type": "execute_result"
    }
   ],
   "source": [
    "print(order_prod_df.shape)\n",
    "order_prod_df.head()"
   ]
  },
  {
   "cell_type": "markdown",
   "metadata": {
    "id": "FhRsoCWi7VqJ"
   },
   "source": [
    "So there are approx 3 crores (30 Million) rows and 4 columns. We are going to drop the last two columns as we dont require them for this phase. "
   ]
  },
  {
   "cell_type": "code",
   "execution_count": null,
   "metadata": {
    "id": "kj-M254v6FhP"
   },
   "outputs": [],
   "source": [
    "order_prod_df.drop(['add_to_cart_order','reordered'],axis = 1, inplace = True)"
   ]
  },
  {
   "cell_type": "code",
   "execution_count": null,
   "metadata": {
    "colab": {
     "base_uri": "https://localhost:8080/"
    },
    "executionInfo": {
     "elapsed": 9,
     "status": "ok",
     "timestamp": 1639296593398,
     "user": {
      "displayName": "52_Rajiwate AbdulBasit",
      "photoUrl": "https://lh3.googleusercontent.com/a-/AOh14GgOryrdlri9oeQ0b9C0VoxeBQddhqUjl1k3fKla=s64",
      "userId": "12599837119363407512"
     },
     "user_tz": -330
    },
    "id": "3EwbpnH98QOm",
    "outputId": "2c1c1171-9c75-4706-dff7-66d05e0995a9"
   },
   "outputs": [
    {
     "name": "stdout",
     "output_type": "stream",
     "text": [
      "(32434489, 2)\n"
     ]
    }
   ],
   "source": [
    "print(order_prod_df.shape)"
   ]
  },
  {
   "cell_type": "markdown",
   "metadata": {
    "id": "jvE8L2uq82Wh"
   },
   "source": [
    "### ---> Transforming cleaned_orders.csv"
   ]
  },
  {
   "cell_type": "code",
   "execution_count": null,
   "metadata": {
    "colab": {
     "base_uri": "https://localhost:8080/",
     "height": 224
    },
    "executionInfo": {
     "elapsed": 663,
     "status": "ok",
     "timestamp": 1639296596625,
     "user": {
      "displayName": "52_Rajiwate AbdulBasit",
      "photoUrl": "https://lh3.googleusercontent.com/a-/AOh14GgOryrdlri9oeQ0b9C0VoxeBQddhqUjl1k3fKla=s64",
      "userId": "12599837119363407512"
     },
     "user_tz": -330
    },
    "id": "HPcmiVMB8_xX",
    "outputId": "1cff46e0-a2f0-414e-e31f-ba3b420d8dd6"
   },
   "outputs": [
    {
     "name": "stdout",
     "output_type": "stream",
     "text": [
      "(3214874, 8)\n"
     ]
    },
    {
     "data": {
      "text/html": [
       "<div>\n",
       "<style scoped>\n",
       "    .dataframe tbody tr th:only-of-type {\n",
       "        vertical-align: middle;\n",
       "    }\n",
       "\n",
       "    .dataframe tbody tr th {\n",
       "        vertical-align: top;\n",
       "    }\n",
       "\n",
       "    .dataframe thead th {\n",
       "        text-align: right;\n",
       "    }\n",
       "</style>\n",
       "<table border=\"1\" class=\"dataframe\">\n",
       "  <thead>\n",
       "    <tr style=\"text-align: right;\">\n",
       "      <th></th>\n",
       "      <th>Unnamed: 0</th>\n",
       "      <th>order_id</th>\n",
       "      <th>user_id</th>\n",
       "      <th>eval_set</th>\n",
       "      <th>order_number</th>\n",
       "      <th>order_dow</th>\n",
       "      <th>order_hour_of_day</th>\n",
       "      <th>days_since_prior_order</th>\n",
       "    </tr>\n",
       "  </thead>\n",
       "  <tbody>\n",
       "    <tr>\n",
       "      <th>0</th>\n",
       "      <td>0</td>\n",
       "      <td>2539329</td>\n",
       "      <td>1</td>\n",
       "      <td>prior</td>\n",
       "      <td>1</td>\n",
       "      <td>2</td>\n",
       "      <td>8</td>\n",
       "      <td>0.0</td>\n",
       "    </tr>\n",
       "    <tr>\n",
       "      <th>1</th>\n",
       "      <td>1</td>\n",
       "      <td>2398795</td>\n",
       "      <td>1</td>\n",
       "      <td>prior</td>\n",
       "      <td>2</td>\n",
       "      <td>3</td>\n",
       "      <td>7</td>\n",
       "      <td>15.0</td>\n",
       "    </tr>\n",
       "    <tr>\n",
       "      <th>2</th>\n",
       "      <td>2</td>\n",
       "      <td>473747</td>\n",
       "      <td>1</td>\n",
       "      <td>prior</td>\n",
       "      <td>3</td>\n",
       "      <td>3</td>\n",
       "      <td>12</td>\n",
       "      <td>21.0</td>\n",
       "    </tr>\n",
       "    <tr>\n",
       "      <th>3</th>\n",
       "      <td>3</td>\n",
       "      <td>2254736</td>\n",
       "      <td>1</td>\n",
       "      <td>prior</td>\n",
       "      <td>4</td>\n",
       "      <td>4</td>\n",
       "      <td>7</td>\n",
       "      <td>29.0</td>\n",
       "    </tr>\n",
       "    <tr>\n",
       "      <th>4</th>\n",
       "      <td>4</td>\n",
       "      <td>431534</td>\n",
       "      <td>1</td>\n",
       "      <td>prior</td>\n",
       "      <td>5</td>\n",
       "      <td>4</td>\n",
       "      <td>15</td>\n",
       "      <td>28.0</td>\n",
       "    </tr>\n",
       "  </tbody>\n",
       "</table>\n",
       "</div>"
      ],
      "text/plain": [
       "   Unnamed: 0  order_id  ...  order_hour_of_day days_since_prior_order\n",
       "0           0   2539329  ...                  8                    0.0\n",
       "1           1   2398795  ...                  7                   15.0\n",
       "2           2    473747  ...                 12                   21.0\n",
       "3           3   2254736  ...                  7                   29.0\n",
       "4           4    431534  ...                 15                   28.0\n",
       "\n",
       "[5 rows x 8 columns]"
      ]
     },
     "execution_count": 6,
     "metadata": {},
     "output_type": "execute_result"
    }
   ],
   "source": [
    "print(orders_df.shape)\n",
    "orders_df.head()"
   ]
  },
  {
   "cell_type": "markdown",
   "metadata": {
    "id": "hxUH8soF9PvT"
   },
   "source": [
    "Here we will drop all the columns except the order_id and user_id columns"
   ]
  },
  {
   "cell_type": "code",
   "execution_count": null,
   "metadata": {
    "colab": {
     "base_uri": "https://localhost:8080/"
    },
    "executionInfo": {
     "elapsed": 50,
     "status": "ok",
     "timestamp": 1639296596627,
     "user": {
      "displayName": "52_Rajiwate AbdulBasit",
      "photoUrl": "https://lh3.googleusercontent.com/a-/AOh14GgOryrdlri9oeQ0b9C0VoxeBQddhqUjl1k3fKla=s64",
      "userId": "12599837119363407512"
     },
     "user_tz": -330
    },
    "id": "7FJsIsSE9YZP",
    "outputId": "a39d5a50-e083-4a45-9676-9ffd024e49da"
   },
   "outputs": [
    {
     "data": {
      "text/plain": [
       "['Unnamed: 0',\n",
       " 'order_id',\n",
       " 'user_id',\n",
       " 'eval_set',\n",
       " 'order_number',\n",
       " 'order_dow',\n",
       " 'order_hour_of_day',\n",
       " 'days_since_prior_order']"
      ]
     },
     "execution_count": 7,
     "metadata": {},
     "output_type": "execute_result"
    }
   ],
   "source": [
    "columns_list = list(orders_df.columns)\n",
    "columns_list"
   ]
  },
  {
   "cell_type": "code",
   "execution_count": null,
   "metadata": {
    "id": "2OwQx1Cg9adI"
   },
   "outputs": [],
   "source": [
    "columns_list.remove('order_id')\n",
    "columns_list.remove('user_id')"
   ]
  },
  {
   "cell_type": "code",
   "execution_count": null,
   "metadata": {
    "id": "5pacZWZP9pmd"
   },
   "outputs": [],
   "source": [
    "orders_df.drop(columns_list,axis = 1, inplace = True)"
   ]
  },
  {
   "cell_type": "code",
   "execution_count": null,
   "metadata": {
    "colab": {
     "base_uri": "https://localhost:8080/"
    },
    "executionInfo": {
     "elapsed": 51,
     "status": "ok",
     "timestamp": 1639296596633,
     "user": {
      "displayName": "52_Rajiwate AbdulBasit",
      "photoUrl": "https://lh3.googleusercontent.com/a-/AOh14GgOryrdlri9oeQ0b9C0VoxeBQddhqUjl1k3fKla=s64",
      "userId": "12599837119363407512"
     },
     "user_tz": -330
    },
    "id": "eKK1aowY9sUt",
    "outputId": "95de1cfe-c41d-4bec-9fd8-f7398334ab23"
   },
   "outputs": [
    {
     "data": {
      "text/plain": [
       "(3214874, 2)"
      ]
     },
     "execution_count": 10,
     "metadata": {},
     "output_type": "execute_result"
    }
   ],
   "source": [
    "orders_df.shape"
   ]
  },
  {
   "cell_type": "markdown",
   "metadata": {
    "id": "fdtS7Y9EAtrd"
   },
   "source": [
    "Alright the operation was successfull. \n",
    "___\n",
    "**Now we need to check the minimum & maximum number of transactions made in the datset. This is an important step, as this checks whether the transactions are being dominated or skewed towards a particular direction.** \n",
    "\n",
    "For e.g. Lets say user A and B have 3 & 5 trasactions respectively. But, user C has 20 transactions. This skewness in the number of transactions may lead to inaccurate conclusions and hence must be resolved."
   ]
  },
  {
   "cell_type": "code",
   "execution_count": null,
   "metadata": {
    "id": "nfLDD3SGGf4j"
   },
   "outputs": [],
   "source": [
    "df = orders_df.groupby('user_id').count()\n",
    "print(df.shape)\n",
    "user_id = list(df.index)\n",
    "order_id = list(df.order_id.values)\n",
    "orders_grouped_df = pd.DataFrame({'user_id':user_id, 'order_id':order_id})"
   ]
  },
  {
   "cell_type": "code",
   "execution_count": null,
   "metadata": {
    "colab": {
     "base_uri": "https://localhost:8080/",
     "height": 224
    },
    "executionInfo": {
     "elapsed": 51,
     "status": "ok",
     "timestamp": 1639296596637,
     "user": {
      "displayName": "52_Rajiwate AbdulBasit",
      "photoUrl": "https://lh3.googleusercontent.com/a-/AOh14GgOryrdlri9oeQ0b9C0VoxeBQddhqUjl1k3fKla=s64",
      "userId": "12599837119363407512"
     },
     "user_tz": -330
    },
    "id": "RvQisIrfNIFY",
    "outputId": "bef6e35d-4b31-44c6-c894-3a853edfe137"
   },
   "outputs": [
    {
     "name": "stdout",
     "output_type": "stream",
     "text": [
      "(206209, 2)\n"
     ]
    },
    {
     "data": {
      "text/html": [
       "<div>\n",
       "<style scoped>\n",
       "    .dataframe tbody tr th:only-of-type {\n",
       "        vertical-align: middle;\n",
       "    }\n",
       "\n",
       "    .dataframe tbody tr th {\n",
       "        vertical-align: top;\n",
       "    }\n",
       "\n",
       "    .dataframe thead th {\n",
       "        text-align: right;\n",
       "    }\n",
       "</style>\n",
       "<table border=\"1\" class=\"dataframe\">\n",
       "  <thead>\n",
       "    <tr style=\"text-align: right;\">\n",
       "      <th></th>\n",
       "      <th>user_id</th>\n",
       "      <th>order_id</th>\n",
       "    </tr>\n",
       "  </thead>\n",
       "  <tbody>\n",
       "    <tr>\n",
       "      <th>0</th>\n",
       "      <td>1</td>\n",
       "      <td>10</td>\n",
       "    </tr>\n",
       "    <tr>\n",
       "      <th>1</th>\n",
       "      <td>2</td>\n",
       "      <td>14</td>\n",
       "    </tr>\n",
       "    <tr>\n",
       "      <th>2</th>\n",
       "      <td>3</td>\n",
       "      <td>12</td>\n",
       "    </tr>\n",
       "    <tr>\n",
       "      <th>3</th>\n",
       "      <td>4</td>\n",
       "      <td>5</td>\n",
       "    </tr>\n",
       "    <tr>\n",
       "      <th>4</th>\n",
       "      <td>5</td>\n",
       "      <td>4</td>\n",
       "    </tr>\n",
       "  </tbody>\n",
       "</table>\n",
       "</div>"
      ],
      "text/plain": [
       "   user_id  order_id\n",
       "0        1        10\n",
       "1        2        14\n",
       "2        3        12\n",
       "3        4         5\n",
       "4        5         4"
      ]
     },
     "execution_count": 12,
     "metadata": {},
     "output_type": "execute_result"
    }
   ],
   "source": [
    "print(orders_grouped_df.shape)\n",
    "orders_grouped_df.head()"
   ]
  },
  {
   "cell_type": "code",
   "execution_count": null,
   "metadata": {
    "colab": {
     "base_uri": "https://localhost:8080/"
    },
    "executionInfo": {
     "elapsed": 49,
     "status": "ok",
     "timestamp": 1639296596639,
     "user": {
      "displayName": "52_Rajiwate AbdulBasit",
      "photoUrl": "https://lh3.googleusercontent.com/a-/AOh14GgOryrdlri9oeQ0b9C0VoxeBQddhqUjl1k3fKla=s64",
      "userId": "12599837119363407512"
     },
     "user_tz": -330
    },
    "id": "m16CUIrxM0uW",
    "outputId": "8f6807a4-9830-49b2-b306-217aceeb392e"
   },
   "outputs": [
    {
     "name": "stdout",
     "output_type": "stream",
     "text": [
      "The minimum number of transactions are: 3\n",
      "The maximum number of transactions are: 99\n"
     ]
    }
   ],
   "source": [
    "print(f\"The minimum number of transactions are: {orders_grouped_df.order_id.min()}\")\n",
    "print(f\"The maximum number of transactions are: {orders_grouped_df.order_id.max()}\")"
   ]
  },
  {
   "cell_type": "markdown",
   "metadata": {
    "id": "881Dma7-Hxe9"
   },
   "source": [
    "I'm surprised that there are some users whose 99 transaction have been considered. Lets check how many users have made 99 transactions"
   ]
  },
  {
   "cell_type": "code",
   "execution_count": null,
   "metadata": {
    "colab": {
     "base_uri": "https://localhost:8080/"
    },
    "executionInfo": {
     "elapsed": 49,
     "status": "ok",
     "timestamp": 1639296596641,
     "user": {
      "displayName": "52_Rajiwate AbdulBasit",
      "photoUrl": "https://lh3.googleusercontent.com/a-/AOh14GgOryrdlri9oeQ0b9C0VoxeBQddhqUjl1k3fKla=s64",
      "userId": "12599837119363407512"
     },
     "user_tz": -330
    },
    "id": "RsdLbm-qAYRp",
    "outputId": "56af4744-0d7b-4965-813f-e2569bbe3be6"
   },
   "outputs": [
    {
     "name": "stdout",
     "output_type": "stream",
     "text": [
      "Number of users that have 99 transaction: 1374\n"
     ]
    }
   ],
   "source": [
    "print(f'Number of users that have 99 transaction: {orders_grouped_df[orders_grouped_df.order_id == 99].count()[0]}')"
   ]
  },
  {
   "cell_type": "markdown",
   "metadata": {
    "id": "8G8YUKxN38UD"
   },
   "source": [
    "That's a fairly large amount of users.\n",
    "____\n",
    "**To resolve this issue, we shall perform Random Sampling by selecting 3 order ids at random from users whose total number of transaction is greater than 3.**\n",
    "_____\n",
    "Firstly, we shall obtain 3 order_ids at random from each user, and then store these randomly obtained order_ids in a variable."
   ]
  },
  {
   "cell_type": "code",
   "execution_count": null,
   "metadata": {
    "id": "3fNaYLU_P88o"
   },
   "outputs": [],
   "source": [
    "random_sampled_order_ids = []\n",
    "user_ids = list(orders_df.user_id.unique())"
   ]
  },
  {
   "cell_type": "code",
   "execution_count": null,
   "metadata": {
    "colab": {
     "base_uri": "https://localhost:8080/",
     "height": 106
    },
    "executionInfo": {
     "elapsed": 48,
     "status": "ok",
     "timestamp": 1639296596643,
     "user": {
      "displayName": "52_Rajiwate AbdulBasit",
      "photoUrl": "https://lh3.googleusercontent.com/a-/AOh14GgOryrdlri9oeQ0b9C0VoxeBQddhqUjl1k3fKla=s64",
      "userId": "12599837119363407512"
     },
     "user_tz": -330
    },
    "id": "g8-u14V0Zz50",
    "outputId": "6c74a6a3-6b6e-495f-8d3a-3d61d3744edf"
   },
   "outputs": [],
   "source": [
    "# Code to obtain three random order ids from each user\n",
    "for i in user_ids:\n",
    "  temp = orders_df[orders_df.user_id == i].order_id.count() \n",
    "  if temp > 3:\n",
    "    data = list(orders_df[orders_df.user_id == i].order_id)\n",
    "    \n",
    "    sample = data[randint(0,len(data)-1)]\n",
    "    data.remove(sample)\n",
    "    random_sampled_order_ids.append(sample)\n",
    "\n",
    "    sample = data[randint(0,len(data)-1)]\n",
    "    data.remove(sample)\n",
    "    random_sampled_order_ids.append(sample)\n",
    "\n",
    "    sample = data[randint(0,len(data)-1)]\n",
    "    data.remove(sample)\n",
    "    random_sampled_order_ids.append(sample)\n",
    "  if temp == 3:\n",
    "    data = list(orders_df[orders_df.user_id == i].order_id)\n",
    "\n",
    "    random_sampled_order_ids.append(data[0])\n",
    "    random_sampled_order_ids.append(data[1])\n",
    "    random_sampled_order_ids.append(data[2])"
   ]
  },
  {
   "cell_type": "code",
   "execution_count": 1,
   "metadata": {
    "colab": {
     "base_uri": "https://localhost:8080/",
     "height": 54
    },
    "executionInfo": {
     "elapsed": 47,
     "status": "ok",
     "timestamp": 1639296596644,
     "user": {
      "displayName": "52_Rajiwate AbdulBasit",
      "photoUrl": "https://lh3.googleusercontent.com/a-/AOh14GgOryrdlri9oeQ0b9C0VoxeBQddhqUjl1k3fKla=s64",
      "userId": "12599837119363407512"
     },
     "user_tz": -330
    },
    "id": "IsoqeSIQ-C5c",
    "outputId": "f43b0c7f-4c10-45d9-9475-1b432f02f652"
   },
   "outputs": [
    {
     "name": "stdout",
     "output_type": "stream",
     "text": [
      "The operation to get random order_ids from each user was successfull\n"
     ]
    }
   ],
   "source": [
    "# Checking whether the operation was successfull or not\n",
    "# We know there are 206209 users\n",
    "\n",
    "if len(set(random_sampled_order_ids)) == (206209*3):\n",
    "    print('The operation to get random order_ids from each user was successfull')"
   ]
  },
  {
   "cell_type": "code",
   "execution_count": null,
   "metadata": {
    "id": "TVk_8qUxIIMd"
   },
   "outputs": [],
   "source": [
    "# Lets save the obtained random order ids using joblib\n",
    "joblib.dump(random_sampled_order_ids,'random_sampled_order_ids.pkl')"
   ]
  },
  {
   "cell_type": "code",
   "execution_count": null,
   "metadata": {
    "id": "a9lOFbV4JKat"
   },
   "outputs": [],
   "source": [
    "# Lets check whether previous operation was performed successfully or not\n",
    "len(set(joblib.load('random_sampled_order_ids.pkl')))"
   ]
  },
  {
   "cell_type": "markdown",
   "metadata": {
    "id": "kOIMcqtQJxF6"
   },
   "source": [
    "### ---> Obtaining transactions from randomly sampled order_ids."
   ]
  },
  {
   "cell_type": "markdown",
   "metadata": {
    "id": "CK1ZGxvSLeIp"
   },
   "source": [
    "**We have successfully obtained 3 random order ids for each user. We will proceed to make a list of lists that will contain all the transactions.**\n"
   ]
  },
  {
   "cell_type": "code",
   "execution_count": null,
   "metadata": {
    "id": "PNjWzRPEiiVi"
   },
   "outputs": [],
   "source": [
    "random_sampled_order_ids = joblib.load('random_sampled_order_ids.pkl') "
   ]
  },
  {
   "cell_type": "code",
   "execution_count": null,
   "metadata": {
    "id": "gnPpJJliiKPC"
   },
   "outputs": [],
   "source": [
    "dumped = []\n",
    "transactions = []\n",
    "for i in random_sampled_order_ids:\n",
    "  val = list(order_prod_df[order_prod_df.order_id == i].product_id.values)\n",
    "  if len(val) == 1:\n",
    "    dumped.append(i)\n",
    "    continue\n",
    "  transactions.append(val)"
   ]
  },
  {
   "cell_type": "code",
   "execution_count": null,
   "metadata": {
    "id": "LBXH7peHc_Zf"
   },
   "outputs": [],
   "source": [
    "transactions = joblib.load('final_transaction.pkl')"
   ]
  },
  {
   "cell_type": "code",
   "execution_count": null,
   "metadata": {
    "colab": {
     "base_uri": "https://localhost:8080/"
    },
    "executionInfo": {
     "elapsed": 521,
     "status": "ok",
     "timestamp": 1639210270750,
     "user": {
      "displayName": "52_Rajiwate AbdulBasit",
      "photoUrl": "https://lh3.googleusercontent.com/a-/AOh14GgOryrdlri9oeQ0b9C0VoxeBQddhqUjl1k3fKla=s64",
      "userId": "12599837119363407512"
     },
     "user_tz": -330
    },
    "id": "lnfA8_cLh2Cs",
    "outputId": "e891c50a-0ab3-4280-a427-d078e105b668"
   },
   "outputs": [
    {
     "name": "stdout",
     "output_type": "stream",
     "text": [
      "Number of transactions expected:618627 \n",
      "Number of transactions attained: 583276\n",
      "Number of transactions lost: 35351\n"
     ]
    }
   ],
   "source": [
    "print(f'Number of transactions expected:{206209*3} ')\n",
    "print(f'Number of transactions attained: {len(transactions)}')\n",
    "print(f'Number of transactions lost: {(206209*3) - len(transactions)}')"
   ]
  },
  {
   "cell_type": "markdown",
   "metadata": {
    "id": "ElTbwuUei9nf"
   },
   "source": [
    "Here is the explanation to why we have lost approx 35k transactions. It is simply because the trasactions that were dropped only contained a single item. Containing only 1 transaction in the dataset may cause some problem with FP-Growth algotihm and hence they were removed"
   ]
  },
  {
   "cell_type": "markdown",
   "metadata": {
    "id": "ER2wEA2ujrVC"
   },
   "source": [
    "## ---- Investigating missing products ----"
   ]
  },
  {
   "cell_type": "markdown",
   "metadata": {
    "id": "ZtqWbgOOj2wl"
   },
   "source": [
    "in this phase, we will check for missing products in transactional dataset if any. Investigating this, will give us an idea on the quality of the sample obtained."
   ]
  },
  {
   "cell_type": "code",
   "execution_count": null,
   "metadata": {
    "id": "Mh2j9_fYnhrr"
   },
   "outputs": [],
   "source": [
    "transactions = joblib.load('final_transaction.pkl')"
   ]
  },
  {
   "cell_type": "code",
   "execution_count": null,
   "metadata": {
    "colab": {
     "base_uri": "https://localhost:8080/",
     "height": 224
    },
    "executionInfo": {
     "elapsed": 538,
     "status": "ok",
     "timestamp": 1639297122933,
     "user": {
      "displayName": "52_Rajiwate AbdulBasit",
      "photoUrl": "https://lh3.googleusercontent.com/a-/AOh14GgOryrdlri9oeQ0b9C0VoxeBQddhqUjl1k3fKla=s64",
      "userId": "12599837119363407512"
     },
     "user_tz": -330
    },
    "id": "xOXBjMOAuKu5",
    "outputId": "97ca5720-193a-4541-b1e6-69472c8cff4f"
   },
   "outputs": [
    {
     "name": "stdout",
     "output_type": "stream",
     "text": [
      "(49688, 4)\n"
     ]
    },
    {
     "data": {
      "text/html": [
       "<div>\n",
       "<style scoped>\n",
       "    .dataframe tbody tr th:only-of-type {\n",
       "        vertical-align: middle;\n",
       "    }\n",
       "\n",
       "    .dataframe tbody tr th {\n",
       "        vertical-align: top;\n",
       "    }\n",
       "\n",
       "    .dataframe thead th {\n",
       "        text-align: right;\n",
       "    }\n",
       "</style>\n",
       "<table border=\"1\" class=\"dataframe\">\n",
       "  <thead>\n",
       "    <tr style=\"text-align: right;\">\n",
       "      <th></th>\n",
       "      <th>product_id</th>\n",
       "      <th>product_name</th>\n",
       "      <th>aisle_id</th>\n",
       "      <th>department_id</th>\n",
       "    </tr>\n",
       "  </thead>\n",
       "  <tbody>\n",
       "    <tr>\n",
       "      <th>0</th>\n",
       "      <td>1</td>\n",
       "      <td>Chocolate Sandwich Cookies</td>\n",
       "      <td>61</td>\n",
       "      <td>19</td>\n",
       "    </tr>\n",
       "    <tr>\n",
       "      <th>1</th>\n",
       "      <td>2</td>\n",
       "      <td>All-Seasons Salt</td>\n",
       "      <td>104</td>\n",
       "      <td>13</td>\n",
       "    </tr>\n",
       "    <tr>\n",
       "      <th>2</th>\n",
       "      <td>3</td>\n",
       "      <td>Robust Golden Unsweetened Oolong Tea</td>\n",
       "      <td>94</td>\n",
       "      <td>7</td>\n",
       "    </tr>\n",
       "    <tr>\n",
       "      <th>3</th>\n",
       "      <td>4</td>\n",
       "      <td>Smart Ones Classic Favorites Mini Rigatoni Wit...</td>\n",
       "      <td>38</td>\n",
       "      <td>1</td>\n",
       "    </tr>\n",
       "    <tr>\n",
       "      <th>4</th>\n",
       "      <td>5</td>\n",
       "      <td>Green Chile Anytime Sauce</td>\n",
       "      <td>5</td>\n",
       "      <td>13</td>\n",
       "    </tr>\n",
       "  </tbody>\n",
       "</table>\n",
       "</div>"
      ],
      "text/plain": [
       "   product_id  ... department_id\n",
       "0           1  ...            19\n",
       "1           2  ...            13\n",
       "2           3  ...             7\n",
       "3           4  ...             1\n",
       "4           5  ...            13\n",
       "\n",
       "[5 rows x 4 columns]"
      ]
     },
     "execution_count": 22,
     "metadata": {},
     "output_type": "execute_result"
    }
   ],
   "source": [
    "print(products_df.shape)\n",
    "products_df.head()"
   ]
  },
  {
   "cell_type": "markdown",
   "metadata": {
    "id": "rRbhVoDOuRLz"
   },
   "source": [
    "### ---> Checking for missing products in \"transactions\" variable compared to products.csv"
   ]
  },
  {
   "cell_type": "markdown",
   "metadata": {},
   "source": [
    "**We will check whether our sample has all the products listed from our main products dataframe i.e. \"products.csv\". If there are a few products missing and if they are popular then our sample will not be a good representative of populus and it may lead to inaccurate conclusions.** "
   ]
  },
  {
   "cell_type": "markdown",
   "metadata": {
    "id": "m5j2S5Hgud5A"
   },
   "source": [
    "For convenience, we will convert transactions to a dataframe."
   ]
  },
  {
   "cell_type": "code",
   "execution_count": null,
   "metadata": {
    "id": "6yRRvYFdA_0e"
   },
   "outputs": [],
   "source": [
    "new_transactions = []\n",
    "for i in range(len(transactions)):\n",
    "  new_transactions.extend(transactions[i])"
   ]
  },
  {
   "cell_type": "code",
   "execution_count": null,
   "metadata": {
    "colab": {
     "base_uri": "https://localhost:8080/",
     "height": 224
    },
    "executionInfo": {
     "elapsed": 3121,
     "status": "ok",
     "timestamp": 1639301936164,
     "user": {
      "displayName": "52_Rajiwate AbdulBasit",
      "photoUrl": "https://lh3.googleusercontent.com/a-/AOh14GgOryrdlri9oeQ0b9C0VoxeBQddhqUjl1k3fKla=s64",
      "userId": "12599837119363407512"
     },
     "user_tz": -330
    },
    "id": "ffRe9392A_xa",
    "outputId": "1b99ac48-d4a5-4ad5-f5d6-073906117b31"
   },
   "outputs": [
    {
     "name": "stdout",
     "output_type": "stream",
     "text": [
      "(6125447, 2)\n"
     ]
    },
    {
     "data": {
      "text/html": [
       "<div>\n",
       "<style scoped>\n",
       "    .dataframe tbody tr th:only-of-type {\n",
       "        vertical-align: middle;\n",
       "    }\n",
       "\n",
       "    .dataframe tbody tr th {\n",
       "        vertical-align: top;\n",
       "    }\n",
       "\n",
       "    .dataframe thead th {\n",
       "        text-align: right;\n",
       "    }\n",
       "</style>\n",
       "<table border=\"1\" class=\"dataframe\">\n",
       "  <thead>\n",
       "    <tr style=\"text-align: right;\">\n",
       "      <th></th>\n",
       "      <th>product_id</th>\n",
       "      <th>val</th>\n",
       "    </tr>\n",
       "  </thead>\n",
       "  <tbody>\n",
       "    <tr>\n",
       "      <th>0</th>\n",
       "      <td>196</td>\n",
       "      <td>0</td>\n",
       "    </tr>\n",
       "    <tr>\n",
       "      <th>1</th>\n",
       "      <td>12427</td>\n",
       "      <td>1</td>\n",
       "    </tr>\n",
       "    <tr>\n",
       "      <th>2</th>\n",
       "      <td>10258</td>\n",
       "      <td>2</td>\n",
       "    </tr>\n",
       "    <tr>\n",
       "      <th>3</th>\n",
       "      <td>25133</td>\n",
       "      <td>3</td>\n",
       "    </tr>\n",
       "    <tr>\n",
       "      <th>4</th>\n",
       "      <td>30450</td>\n",
       "      <td>4</td>\n",
       "    </tr>\n",
       "  </tbody>\n",
       "</table>\n",
       "</div>"
      ],
      "text/plain": [
       "   product_id  val\n",
       "0         196    0\n",
       "1       12427    1\n",
       "2       10258    2\n",
       "3       25133    3\n",
       "4       30450    4"
      ]
     },
     "execution_count": 91,
     "metadata": {},
     "output_type": "execute_result"
    }
   ],
   "source": [
    "# Converting new_transactions to a Dataframe \n",
    "df = pd.DataFrame(data=new_transactions,columns=['product_id'])\n",
    "df['val'] = range(len(df))\n",
    "\n",
    "print(df.shape)\n",
    "df.head()"
   ]
  },
  {
   "cell_type": "code",
   "execution_count": null,
   "metadata": {
    "colab": {
     "base_uri": "https://localhost:8080/"
    },
    "executionInfo": {
     "elapsed": 410,
     "status": "ok",
     "timestamp": 1639297610319,
     "user": {
      "displayName": "52_Rajiwate AbdulBasit",
      "photoUrl": "https://lh3.googleusercontent.com/a-/AOh14GgOryrdlri9oeQ0b9C0VoxeBQddhqUjl1k3fKla=s64",
      "userId": "12599837119363407512"
     },
     "user_tz": -330
    },
    "id": "5BJqd92zA_uf",
    "outputId": "e6dc888d-7ac7-44f5-b15e-7a57e5409c5c"
   },
   "outputs": [
    {
     "name": "stdout",
     "output_type": "stream",
     "text": [
      "Few products are missing from the sample\n"
     ]
    }
   ],
   "source": [
    "if products_df.product_id.nunique() == df.product_id.nunique():\n",
    "  print('All products are included in the sample')\n",
    "else:\n",
    "  print('Few products are missing from the sample')"
   ]
  },
  {
   "cell_type": "markdown",
   "metadata": {
    "id": "Ebh6yX2LwI8i"
   },
   "source": [
    "Lets store all the missing product ids in a list."
   ]
  },
  {
   "cell_type": "code",
   "execution_count": 2,
   "metadata": {
    "colab": {
     "base_uri": "https://localhost:8080/"
    },
    "executionInfo": {
     "elapsed": 13,
     "status": "ok",
     "timestamp": 1639299054204,
     "user": {
      "displayName": "52_Rajiwate AbdulBasit",
      "photoUrl": "https://lh3.googleusercontent.com/a-/AOh14GgOryrdlri9oeQ0b9C0VoxeBQddhqUjl1k3fKla=s64",
      "userId": "12599837119363407512"
     },
     "user_tz": -330
    },
    "id": "3cCnmtCCuKpn",
    "outputId": "5b259120-28bd-4fb8-958b-098d8a095ab6"
   },
   "outputs": [
    {
     "name": "stdout",
     "output_type": "stream",
     "text": [
      "Total missing products from sample are: 1888\n"
     ]
    }
   ],
   "source": [
    "temp_original = set((products_df.product_id.unique())\n",
    "temp_sample =   set((df.product_id.unique())\n",
    "missing_prod_sample = temp_original - temp_sample\n",
    "print(f'Total missing products from sample are: {len(missing_prod_sample)}')\n",
    "print(missing_prod_sample)"
   ]
  },
  {
   "cell_type": "markdown",
   "metadata": {
    "id": "2WY_XE1Z1rIo"
   },
   "source": [
    "Hmm, 1888 products are missing from the sample. There may be a chance that few products are also missing from the dataset ( i.e. order_products__prior.csv) from which the sample was drawn."
   ]
  },
  {
   "cell_type": "markdown",
   "metadata": {
    "id": "FfXcIjQtEpP-"
   },
   "source": [
    "### ---> Checking for missing products in order_products__prior.csv"
   ]
  },
  {
   "cell_type": "markdown",
   "metadata": {
    "id": "ZwDl5DFQEwRi"
   },
   "source": [
    "**Checking whether order_products__prior.csv has any missing products as compared to products.csv (i.e. main products dataframe).**"
   ]
  },
  {
   "cell_type": "code",
   "execution_count": null,
   "metadata": {
    "colab": {
     "base_uri": "https://localhost:8080/"
    },
    "executionInfo": {
     "elapsed": 418,
     "status": "ok",
     "timestamp": 1639303176112,
     "user": {
      "displayName": "52_Rajiwate AbdulBasit",
      "photoUrl": "https://lh3.googleusercontent.com/a-/AOh14GgOryrdlri9oeQ0b9C0VoxeBQddhqUjl1k3fKla=s64",
      "userId": "12599837119363407512"
     },
     "user_tz": -330
    },
    "id": "TNiiuBMxuKUe",
    "outputId": "c770d93c-8d70-4235-d50d-f28d4d8dae57"
   },
   "outputs": [
    {
     "name": "stdout",
     "output_type": "stream",
     "text": [
      "Few products are missing from the order_prod_df\n"
     ]
    }
   ],
   "source": [
    "if products_df.product_id.nunique() == order_prod_df.product_id.nunique():\n",
    "  print('All products are included in the order_prod_df')\n",
    "else:\n",
    "  print('Few products are missing from the order_prod_df')"
   ]
  },
  {
   "cell_type": "markdown",
   "metadata": {
    "id": "k6CeilcXFWvS"
   },
   "source": [
    "Intresting, even though we have a large amount of transactional data there are still few products that are missing in the transaction. Lets explore what products these are how many of them are there."
   ]
  },
  {
   "cell_type": "code",
   "execution_count": null,
   "metadata": {
    "colab": {
     "base_uri": "https://localhost:8080/"
    },
    "executionInfo": {
     "elapsed": 377,
     "status": "ok",
     "timestamp": 1639303433410,
     "user": {
      "displayName": "52_Rajiwate AbdulBasit",
      "photoUrl": "https://lh3.googleusercontent.com/a-/AOh14GgOryrdlri9oeQ0b9C0VoxeBQddhqUjl1k3fKla=s64",
      "userId": "12599837119363407512"
     },
     "user_tz": -330
    },
    "id": "YGLxx5E2uKQz",
    "outputId": "8c9d8f35-b756-4b8c-a549-20cfa53256d8"
   },
   "outputs": [
    {
     "name": "stdout",
     "output_type": "stream",
     "text": [
      "Total missing products from order_prod_df are: 11\n",
      "{46625, 49540, 7045, 3718, 25383, 37703, 36233, 27499, 43725, 3630, 45971}\n"
     ]
    }
   ],
   "source": [
    "temp_prod = set(products_df.product_id.unique())\n",
    "temp_order_prod = set(order_prod_df.product_id.unique())\n",
    "missing_prod = temp_prod - temp_order_prod\n",
    "print(f'Total missing products from order_prod_df are: {len(missing_prod)}')\n",
    "print(missing_prod)"
   ]
  },
  {
   "cell_type": "markdown",
   "metadata": {
    "id": "DVC5RtTtNCTy"
   },
   "source": [
    "### ---> Checking for missing products in \"transactions\" variable compared to order_products__prior.csv"
   ]
  },
  {
   "cell_type": "code",
   "execution_count": 4,
   "metadata": {
    "colab": {
     "base_uri": "https://localhost:8080/"
    },
    "executionInfo": {
     "elapsed": 1097,
     "status": "ok",
     "timestamp": 1639305593724,
     "user": {
      "displayName": "52_Rajiwate AbdulBasit",
      "photoUrl": "https://lh3.googleusercontent.com/a-/AOh14GgOryrdlri9oeQ0b9C0VoxeBQddhqUjl1k3fKla=s64",
      "userId": "12599837119363407512"
     },
     "user_tz": -330
    },
    "id": "JoQWYnJuuJ-Q",
    "outputId": "06bfd9bf-eef1-4d29-851f-316e9d0a030e"
   },
   "outputs": [
    {
     "name": "stdout",
     "output_type": "stream",
     "text": [
      "Total missing products from sample are: 1877\n"
     ]
    }
   ],
   "source": [
    "temp_sample = set(df.product_id.unique())\n",
    "temp_order_prod = set(order_prod_df.product_id.unique())\n",
    "missing_prod_sample_2 = temp_order_prod - temp_sample\n",
    "print(f'Total missing products from sample are: {len(missing_prod_sample_2)}')\n",
    "print(missing_prod_sample_2)"
   ]
  },
  {
   "cell_type": "markdown",
   "metadata": {},
   "source": [
    "**Summarizing everything we did so far in this section i.e. Investigating missing products**\n",
    "\n",
    "1. First, we obtained all the missing products in transactions variable when compared to products.csv. The total number of missing products were 1888.\n",
    "2. On further analysis, order_products__prior.csv had 11 products missing when compared to products.csv\n",
    "3. Finally we checked for missing products in transactions when compared to order_products__prior.csv and we got a total of 1877 missing products.\n",
    "\n",
    "This makes sense, as you can see if we substract 11 from 1888 we get 1877.\n",
    "___\n",
    "Now we will get the highest count/freq of the products that are missing from transactions variable. In other words, we are going to get the product with highest freq/count from the 1877 products that are missing in transactions."
   ]
  },
  {
   "cell_type": "code",
   "execution_count": null,
   "metadata": {
    "colab": {
     "base_uri": "https://localhost:8080/"
    },
    "executionInfo": {
     "elapsed": 96210,
     "status": "ok",
     "timestamp": 1639310232991,
     "user": {
      "displayName": "52_Rajiwate AbdulBasit",
      "photoUrl": "https://lh3.googleusercontent.com/a-/AOh14GgOryrdlri9oeQ0b9C0VoxeBQddhqUjl1k3fKla=s64",
      "userId": "12599837119363407512"
     },
     "user_tz": -330
    },
    "id": "FaW7LEI0Q7vF",
    "outputId": "23082936-269e-4763-8764-06f9995c7800"
   },
   "outputs": [
    {
     "name": "stdout",
     "output_type": "stream",
     "text": [
      "Product 6389 has the highest frequency of 37\n"
     ]
    }
   ],
   "source": [
    "highest_freq = 0\n",
    "product = 0\n",
    "a = []\n",
    "for i in missing_prod_sample_2:\n",
    "  temp = order_prod_df[order_prod_df.product_id == i].count()[0]\n",
    "  a.append(temp)\n",
    "  if highest_freq < temp:\n",
    "    highest_freq = temp\n",
    "    product = i\n",
    "print(f'Product {product} has the highest frequency of {highest_freq}')"
   ]
  },
  {
   "cell_type": "markdown",
   "metadata": {
    "id": "6xqMsXR4THC-"
   },
   "source": [
    "## ---- Frequency Comparsion ----"
   ]
  },
  {
   "cell_type": "markdown",
   "metadata": {
    "id": "wSzrq4hpTNCJ"
   },
   "source": [
    "Now that we have identified the missing product ids in \"transaction\" we need check whether the missing product ids are going to affect our process of mining frequent itemsets and finding strong associations rules.\n",
    "___\n",
    "Lets start by creating a new dataframe containing product frequencies  with respect to order_products__prior.csv file."
   ]
  },
  {
   "cell_type": "code",
   "execution_count": 21,
   "metadata": {
    "colab": {
     "base_uri": "https://localhost:8080/",
     "height": 224
    },
    "executionInfo": {
     "elapsed": 3488,
     "status": "ok",
     "timestamp": 1639307153513,
     "user": {
      "displayName": "52_Rajiwate AbdulBasit",
      "photoUrl": "https://lh3.googleusercontent.com/a-/AOh14GgOryrdlri9oeQ0b9C0VoxeBQddhqUjl1k3fKla=s64",
      "userId": "12599837119363407512"
     },
     "user_tz": -330
    },
    "id": "mG3NAtWAQ7iR",
    "outputId": "8e5b378c-7d25-42a8-ad6f-819dd8ee352b"
   },
   "outputs": [
    {
     "name": "stdout",
     "output_type": "stream",
     "text": [
      "(49677, 2)\n"
     ]
    },
    {
     "data": {
      "text/html": [
       "<div>\n",
       "<style scoped>\n",
       "    .dataframe tbody tr th:only-of-type {\n",
       "        vertical-align: middle;\n",
       "    }\n",
       "\n",
       "    .dataframe tbody tr th {\n",
       "        vertical-align: top;\n",
       "    }\n",
       "\n",
       "    .dataframe thead th {\n",
       "        text-align: right;\n",
       "    }\n",
       "</style>\n",
       "<table border=\"1\" class=\"dataframe\">\n",
       "  <thead>\n",
       "    <tr style=\"text-align: right;\">\n",
       "      <th></th>\n",
       "      <th>product_id</th>\n",
       "      <th>frequency</th>\n",
       "    </tr>\n",
       "  </thead>\n",
       "  <tbody>\n",
       "    <tr>\n",
       "      <th>0</th>\n",
       "      <td>1</td>\n",
       "      <td>1852</td>\n",
       "    </tr>\n",
       "    <tr>\n",
       "      <th>1</th>\n",
       "      <td>2</td>\n",
       "      <td>90</td>\n",
       "    </tr>\n",
       "    <tr>\n",
       "      <th>2</th>\n",
       "      <td>3</td>\n",
       "      <td>277</td>\n",
       "    </tr>\n",
       "    <tr>\n",
       "      <th>3</th>\n",
       "      <td>4</td>\n",
       "      <td>329</td>\n",
       "    </tr>\n",
       "    <tr>\n",
       "      <th>4</th>\n",
       "      <td>5</td>\n",
       "      <td>15</td>\n",
       "    </tr>\n",
       "  </tbody>\n",
       "</table>\n",
       "</div>"
      ],
      "text/plain": [
       "   product_id  frequency\n",
       "0           1       1852\n",
       "1           2         90\n",
       "2           3        277\n",
       "3           4        329\n",
       "4           5         15"
      ]
     },
     "execution_count": 21,
     "metadata": {},
     "output_type": "execute_result"
    }
   ],
   "source": [
    "freq = list(order_prod_df.groupby('product_id').count().order_id.values)\n",
    "prod_id = list(order_prod_df.groupby('product_id').count().order_id.index)\n",
    "\n",
    "grouped_order_prod_df= pd.DataFrame({'product_id':prod_id,\n",
    "                                        'frequency':freq}) \n",
    "print(grouped_order_prod_df.shape)\n",
    "grouped_order_prod_df.head()"
   ]
  },
  {
   "cell_type": "markdown",
   "metadata": {
    "id": "UpGrwF3JXDIL"
   },
   "source": [
    "Now we will check whether it is okay to ignore the product ids that are missing in \"transactions\".\n",
    "\n",
    "We can confirm this by first obtaining the percentages of two products\n",
    "1. Top product in order_prod_df  = A\n",
    "2. product with the highest freq count which is absent in \"transactions\" = B\n",
    "\n",
    "After obtaining the percentages, if B < A/2, then we can conclue that it is okay to ignore all the products that are missing in \"transactions\""
   ]
  },
  {
   "cell_type": "code",
   "execution_count": 34,
   "metadata": {},
   "outputs": [],
   "source": [
    "top_product = grouped_order_prod_df.sort_values(by='frequency',ascending = False).iloc[0][0]"
   ]
  },
  {
   "cell_type": "code",
   "execution_count": 35,
   "metadata": {
    "colab": {
     "base_uri": "https://localhost:8080/"
    },
    "executionInfo": {
     "elapsed": 504,
     "status": "ok",
     "timestamp": 1639309024147,
     "user": {
      "displayName": "52_Rajiwate AbdulBasit",
      "photoUrl": "https://lh3.googleusercontent.com/a-/AOh14GgOryrdlri9oeQ0b9C0VoxeBQddhqUjl1k3fKla=s64",
      "userId": "12599837119363407512"
     },
     "user_tz": -330
    },
    "id": "o15P_SlyVuVC",
    "outputId": "a5291605-954e-45f5-dbec-6b39c08d04b2"
   },
   "outputs": [
    {
     "name": "stdout",
     "output_type": "stream",
     "text": [
      "We can safely ignore all the products that are missing in transactions\n",
      "\n",
      "The highest selling product constitues about 1.457% of the entire dataset\n"
     ]
    }
   ],
   "source": [
    "A = order_prod_df[order_prod_df.product_id == top_product].count()[0]\n",
    "B = order_prod_df[order_prod_df.product_id == product].count()[0]\n",
    "total = grouped_order_prod_df.frequency.sum()\n",
    "\n",
    "if (A/total*100)/2 > B/total*100:\n",
    "  print('We can safely ignore all the products that are missing in transactions')\n",
    "  print(f'\\nThe highest selling product constitues about {round(A/total*100,3)}% of the entire dataset')\n",
    "else:\n",
    "  print('We cannot ignore the products the products that are missing in transactions')"
   ]
  },
  {
   "cell_type": "markdown",
   "metadata": {
    "id": "Xow5azjWdZlQ"
   },
   "source": [
    "As we can see in the output, it is proved that we can safely ignore all the product ids that are absent in \"transactions\".\n",
    "___\n",
    "Why was it safe to ignore ?\n",
    "Simply because even if we set a support level that is 50% of top product even then the missing product with the highest freq won't be considered. Obviously the rest of the missing products with lower frequency count will be ignored."
   ]
  },
  {
   "cell_type": "markdown",
   "metadata": {
    "id": "4sCPzj7jB00e"
   },
   "source": [
    "## ---- Deciding Support & Confidence ----"
   ]
  },
  {
   "cell_type": "code",
   "execution_count": null,
   "metadata": {
    "id": "ug8LjIbjCTxc"
   },
   "outputs": [],
   "source": [
    "new_df = pd.read_csv('Transactions_Freq.csv')\n",
    "grouped_order_prod_df = pd.read_csv('Order_Prod_Df_Freq.csv')\n",
    "new_df.drop('Unnamed: 0',axis=1,inplace = True)\n",
    "grouped_order_prod_df.drop('Unnamed: 0',axis=1,inplace = True)"
   ]
  },
  {
   "cell_type": "code",
   "execution_count": null,
   "metadata": {
    "colab": {
     "base_uri": "https://localhost:8080/",
     "height": 224
    },
    "executionInfo": {
     "elapsed": 17,
     "status": "ok",
     "timestamp": 1639373942016,
     "user": {
      "displayName": "52_Rajiwate AbdulBasit",
      "photoUrl": "https://lh3.googleusercontent.com/a-/AOh14GgOryrdlri9oeQ0b9C0VoxeBQddhqUjl1k3fKla=s64",
      "userId": "12599837119363407512"
     },
     "user_tz": -330
    },
    "id": "8uRm3ALYC404",
    "outputId": "50ab4a3c-f5a8-49ef-8b28-75b7096aebb0"
   },
   "outputs": [
    {
     "name": "stdout",
     "output_type": "stream",
     "text": [
      "(47800, 2)\n"
     ]
    },
    {
     "data": {
      "text/html": [
       "<div>\n",
       "<style scoped>\n",
       "    .dataframe tbody tr th:only-of-type {\n",
       "        vertical-align: middle;\n",
       "    }\n",
       "\n",
       "    .dataframe tbody tr th {\n",
       "        vertical-align: top;\n",
       "    }\n",
       "\n",
       "    .dataframe thead th {\n",
       "        text-align: right;\n",
       "    }\n",
       "</style>\n",
       "<table border=\"1\" class=\"dataframe\">\n",
       "  <thead>\n",
       "    <tr style=\"text-align: right;\">\n",
       "      <th></th>\n",
       "      <th>product_id</th>\n",
       "      <th>frequency</th>\n",
       "    </tr>\n",
       "  </thead>\n",
       "  <tbody>\n",
       "    <tr>\n",
       "      <th>0</th>\n",
       "      <td>1</td>\n",
       "      <td>334</td>\n",
       "    </tr>\n",
       "    <tr>\n",
       "      <th>1</th>\n",
       "      <td>2</td>\n",
       "      <td>11</td>\n",
       "    </tr>\n",
       "    <tr>\n",
       "      <th>2</th>\n",
       "      <td>3</td>\n",
       "      <td>40</td>\n",
       "    </tr>\n",
       "    <tr>\n",
       "      <th>3</th>\n",
       "      <td>4</td>\n",
       "      <td>90</td>\n",
       "    </tr>\n",
       "    <tr>\n",
       "      <th>4</th>\n",
       "      <td>5</td>\n",
       "      <td>4</td>\n",
       "    </tr>\n",
       "  </tbody>\n",
       "</table>\n",
       "</div>"
      ],
      "text/plain": [
       "   product_id  frequency\n",
       "0           1        334\n",
       "1           2         11\n",
       "2           3         40\n",
       "3           4         90\n",
       "4           5          4"
      ]
     },
     "execution_count": 36,
     "metadata": {},
     "output_type": "execute_result"
    }
   ],
   "source": [
    "print(new_df.shape)\n",
    "new_df.head()"
   ]
  },
  {
   "cell_type": "code",
   "execution_count": null,
   "metadata": {
    "colab": {
     "base_uri": "https://localhost:8080/",
     "height": 224
    },
    "executionInfo": {
     "elapsed": 16,
     "status": "ok",
     "timestamp": 1639373945149,
     "user": {
      "displayName": "52_Rajiwate AbdulBasit",
      "photoUrl": "https://lh3.googleusercontent.com/a-/AOh14GgOryrdlri9oeQ0b9C0VoxeBQddhqUjl1k3fKla=s64",
      "userId": "12599837119363407512"
     },
     "user_tz": -330
    },
    "id": "ut-rdcYpC6Rw",
    "outputId": "3dbec26f-cd97-4fe3-eb2f-01c93a3095d4"
   },
   "outputs": [
    {
     "name": "stdout",
     "output_type": "stream",
     "text": [
      "(49677, 2)\n"
     ]
    },
    {
     "data": {
      "text/html": [
       "<div>\n",
       "<style scoped>\n",
       "    .dataframe tbody tr th:only-of-type {\n",
       "        vertical-align: middle;\n",
       "    }\n",
       "\n",
       "    .dataframe tbody tr th {\n",
       "        vertical-align: top;\n",
       "    }\n",
       "\n",
       "    .dataframe thead th {\n",
       "        text-align: right;\n",
       "    }\n",
       "</style>\n",
       "<table border=\"1\" class=\"dataframe\">\n",
       "  <thead>\n",
       "    <tr style=\"text-align: right;\">\n",
       "      <th></th>\n",
       "      <th>product_id</th>\n",
       "      <th>frequency</th>\n",
       "    </tr>\n",
       "  </thead>\n",
       "  <tbody>\n",
       "    <tr>\n",
       "      <th>0</th>\n",
       "      <td>1</td>\n",
       "      <td>1852</td>\n",
       "    </tr>\n",
       "    <tr>\n",
       "      <th>1</th>\n",
       "      <td>2</td>\n",
       "      <td>90</td>\n",
       "    </tr>\n",
       "    <tr>\n",
       "      <th>2</th>\n",
       "      <td>3</td>\n",
       "      <td>277</td>\n",
       "    </tr>\n",
       "    <tr>\n",
       "      <th>3</th>\n",
       "      <td>4</td>\n",
       "      <td>329</td>\n",
       "    </tr>\n",
       "    <tr>\n",
       "      <th>4</th>\n",
       "      <td>5</td>\n",
       "      <td>15</td>\n",
       "    </tr>\n",
       "  </tbody>\n",
       "</table>\n",
       "</div>"
      ],
      "text/plain": [
       "   product_id  frequency\n",
       "0           1       1852\n",
       "1           2         90\n",
       "2           3        277\n",
       "3           4        329\n",
       "4           5         15"
      ]
     },
     "execution_count": 37,
     "metadata": {},
     "output_type": "execute_result"
    }
   ],
   "source": [
    "print(grouped_order_prod_df.shape)\n",
    "grouped_order_prod_df.head()"
   ]
  },
  {
   "cell_type": "markdown",
   "metadata": {
    "id": "pgNNmFoNMqxa"
   },
   "source": [
    "To get the support, we are going to  get 75% of top products in both Original and Sample dataset"
   ]
  },
  {
   "cell_type": "code",
   "execution_count": null,
   "metadata": {
    "colab": {
     "base_uri": "https://localhost:8080/"
    },
    "executionInfo": {
     "elapsed": 9,
     "status": "ok",
     "timestamp": 1639399720194,
     "user": {
      "displayName": "52_Rajiwate AbdulBasit",
      "photoUrl": "https://lh3.googleusercontent.com/a-/AOh14GgOryrdlri9oeQ0b9C0VoxeBQddhqUjl1k3fKla=s64",
      "userId": "12599837119363407512"
     },
     "user_tz": -330
    },
    "id": "8GmnH7naFzZs",
    "outputId": "06c1ab29-b0b4-4913-9f50-5674029e3bab"
   },
   "outputs": [
    {
     "name": "stdout",
     "output_type": "stream",
     "text": [
      "-------------- Sample Data Support Calculation ------------\n",
      "The top product has frequency count of 85905 and constitutes about 1.4024 %\n",
      "The Support freq. threshold  in percent is 0.070121413180132% and the freq. threshold is 4295\n",
      "\n",
      "-------------- Original Data Support Calculation ------------\n",
      "The top product has frequency count of 472565 and constitutes about 1.457 %\n",
      "The Support freq. threshold  in percent is 0.07284915140793494% and the freq. threshold is 23628\n"
     ]
    }
   ],
   "source": [
    "# xxxxxxxxxxxxxxxxxx For Sample Data xxxxxxxxxxxxxxxxxxx\n",
    "top_prod_freq = new_df.sort_values(by='frequency',ascending=False).frequency.max()\n",
    "total = new_df.frequency.sum()\n",
    "\n",
    "prod_percent = top_prod_freq/total * 100\n",
    "threshold_percent = 5/100*prod_percent\n",
    "threshold = round(threshold_percent/100 * total)\n",
    "\n",
    "print('-------------- Sample Data Support Calculation ------------')\n",
    "print(f'The top product has frequency count of {top_prod_freq} and constitutes about {round(prod_percent,4)} %')\n",
    "print(f'The Support freq. threshold  in percent is {threshold_percent}% and the freq. threshold is {threshold}')\n",
    "\n",
    "# xxxxxxxxxxxxxxxxxx For Original Data xxxxxxxxxxxxxxxxxxx\n",
    "top_prod_freq = grouped_order_prod_df.sort_values(by='frequency',ascending=False).frequency.max()\n",
    "total = grouped_order_prod_df.frequency.sum()\n",
    "\n",
    "prod_percent = top_prod_freq/total * 100\n",
    "threshold_percent = 5/100*prod_percent\n",
    "threshold = round(threshold_percent/100 * total)\n",
    "\n",
    "print('\\n-------------- Original Data Support Calculation ------------')\n",
    "print(f'The top product has frequency count of {top_prod_freq} and constitutes about {round(prod_percent,4)} %')\n",
    "print(f'The Support freq. threshold  in percent is {threshold_percent}% and the freq. threshold is {threshold}')"
   ]
  },
  {
   "cell_type": "markdown",
   "metadata": {
    "id": "7ldCSM1EYMgz"
   },
   "source": [
    "## ---- FP-Growth Algorithm ----"
   ]
  },
  {
   "cell_type": "markdown",
   "metadata": {
    "id": "47I8D9tDYyZg"
   },
   "source": [
    "**Sample Data Support Calculation**\n",
    "\n",
    "**The Support freq. threshold  in percent is 0.280485652720528% and the freq. threshold is 17181**\n",
    "_____\n",
    "_____\n",
    "\n",
    "**Original Data Support Calculation**\n",
    "\n",
    "**The Support freq. threshold  in percent is 0.29139660563173975% and the freq. threshold is 94513.**\n",
    "____\n",
    "We are going to use the threshold set by the sample data."
   ]
  },
  {
   "cell_type": "code",
   "execution_count": null,
   "metadata": {
    "colab": {
     "base_uri": "https://localhost:8080/"
    },
    "executionInfo": {
     "elapsed": 14,
     "status": "ok",
     "timestamp": 1639402207053,
     "user": {
      "displayName": "52_Rajiwate AbdulBasit",
      "photoUrl": "https://lh3.googleusercontent.com/a-/AOh14GgOryrdlri9oeQ0b9C0VoxeBQddhqUjl1k3fKla=s64",
      "userId": "12599837119363407512"
     },
     "user_tz": -330
    },
    "id": "zAw71Zhy-7on",
    "outputId": "b527d648-0e77-4f49-dd50-9ed6c1fcc877"
   },
   "outputs": [
    {
     "data": {
      "text/plain": [
       "8.162669597826902e-06"
      ]
     },
     "execution_count": 36,
     "metadata": {},
     "output_type": "execute_result"
    }
   ],
   "source": [
    "round(0.5/new_df.frequency.sum()*100,100)"
   ]
  },
  {
   "cell_type": "code",
   "execution_count": null,
   "metadata": {
    "id": "4xYeIUDvX608"
   },
   "outputs": [],
   "source": [
    "transactions = joblib.load('final_transaction.pkl')"
   ]
  },
  {
   "cell_type": "markdown",
   "metadata": {
    "id": "Sm5bbqopP0_3"
   },
   "source": [
    "Generating Frequent Itemsets using FP Growth Algorithm"
   ]
  },
  {
   "cell_type": "code",
   "execution_count": null,
   "metadata": {
    "id": "-P_x4oCzaFbk"
   },
   "outputs": [],
   "source": [
    "freq_itemset = fp.find_frequent_patterns(transactions=transactions,support_threshold=500)"
   ]
  },
  {
   "cell_type": "code",
   "execution_count": null,
   "metadata": {
    "id": "rVUksVFHLqOu"
   },
   "outputs": [],
   "source": [
    "# Converting generated freq_itemsets to a list of set\n",
    "temp_itemsets = []\n",
    "pos_val = []\n",
    "for i in list(freq_itemset.keys()):\n",
    "  val = set(i)\n",
    "  temp_itemsets.append(val)"
   ]
  },
  {
   "cell_type": "code",
   "execution_count": null,
   "metadata": {
    "colab": {
     "base_uri": "https://localhost:8080/",
     "height": 224
    },
    "executionInfo": {
     "elapsed": 532,
     "status": "ok",
     "timestamp": 1639409138403,
     "user": {
      "displayName": "52_Rajiwate AbdulBasit",
      "photoUrl": "https://lh3.googleusercontent.com/a-/AOh14GgOryrdlri9oeQ0b9C0VoxeBQddhqUjl1k3fKla=s64",
      "userId": "12599837119363407512"
     },
     "user_tz": -330
    },
    "id": "RuTm0hUVQdB5",
    "outputId": "0a210639-4889-41cf-9046-9b9e17f3bcdb"
   },
   "outputs": [
    {
     "name": "stdout",
     "output_type": "stream",
     "text": [
      "(4429, 2)\n"
     ]
    },
    {
     "data": {
      "text/html": [
       "<div>\n",
       "<style scoped>\n",
       "    .dataframe tbody tr th:only-of-type {\n",
       "        vertical-align: middle;\n",
       "    }\n",
       "\n",
       "    .dataframe tbody tr th {\n",
       "        vertical-align: top;\n",
       "    }\n",
       "\n",
       "    .dataframe thead th {\n",
       "        text-align: right;\n",
       "    }\n",
       "</style>\n",
       "<table border=\"1\" class=\"dataframe\">\n",
       "  <thead>\n",
       "    <tr style=\"text-align: right;\">\n",
       "      <th></th>\n",
       "      <th>support</th>\n",
       "      <th>itemsets</th>\n",
       "    </tr>\n",
       "  </thead>\n",
       "  <tbody>\n",
       "    <tr>\n",
       "      <th>0</th>\n",
       "      <td>500</td>\n",
       "      <td>{8501}</td>\n",
       "    </tr>\n",
       "    <tr>\n",
       "      <th>1</th>\n",
       "      <td>500</td>\n",
       "      <td>{40287}</td>\n",
       "    </tr>\n",
       "    <tr>\n",
       "      <th>2</th>\n",
       "      <td>500</td>\n",
       "      <td>{29503}</td>\n",
       "    </tr>\n",
       "    <tr>\n",
       "      <th>3</th>\n",
       "      <td>500</td>\n",
       "      <td>{39247}</td>\n",
       "    </tr>\n",
       "    <tr>\n",
       "      <th>4</th>\n",
       "      <td>500</td>\n",
       "      <td>{42360}</td>\n",
       "    </tr>\n",
       "  </tbody>\n",
       "</table>\n",
       "</div>"
      ],
      "text/plain": [
       "   support itemsets\n",
       "0      500   {8501}\n",
       "1      500  {40287}\n",
       "2      500  {29503}\n",
       "3      500  {39247}\n",
       "4      500  {42360}"
      ]
     },
     "execution_count": 168,
     "metadata": {},
     "output_type": "execute_result"
    }
   ],
   "source": [
    "# Creating a dataframe from temp_itemsets. Both the process is done as a prerequisite for mlxtend association rule function\n",
    "freq_itemset_df = pd.DataFrame({'support':list(freq_itemset.values()),\n",
    "                                'itemsets':temp_itemsets})\n",
    "print(freq_itemset_df.shape)\n",
    "freq_itemset_df.head()"
   ]
  },
  {
   "cell_type": "code",
   "execution_count": null,
   "metadata": {
    "colab": {
     "base_uri": "https://localhost:8080/"
    },
    "executionInfo": {
     "elapsed": 351,
     "status": "ok",
     "timestamp": 1639409141241,
     "user": {
      "displayName": "52_Rajiwate AbdulBasit",
      "photoUrl": "https://lh3.googleusercontent.com/a-/AOh14GgOryrdlri9oeQ0b9C0VoxeBQddhqUjl1k3fKla=s64",
      "userId": "12599837119363407512"
     },
     "user_tz": -330
    },
    "id": "fWPpvHxVQ553",
    "outputId": "c7f938dd-de4f-46db-92b1-fac9cb0a8f5a"
   },
   "outputs": [
    {
     "name": "stdout",
     "output_type": "stream",
     "text": [
      "Previous operations were sucessfull\n"
     ]
    }
   ],
   "source": [
    "if len(freq_itemset_df) == len(temp_itemsets) == len(freq_itemset):\n",
    "  print('Previous operations were sucessfull')"
   ]
  },
  {
   "cell_type": "markdown",
   "metadata": {
    "id": "7pBrlaadQQRf"
   },
   "source": [
    "#### ---- Generating rules using mlxtend ----"
   ]
  },
  {
   "cell_type": "code",
   "execution_count": null,
   "metadata": {
    "colab": {
     "base_uri": "https://localhost:8080/",
     "height": 206
    },
    "executionInfo": {
     "elapsed": 376,
     "status": "ok",
     "timestamp": 1639409161825,
     "user": {
      "displayName": "52_Rajiwate AbdulBasit",
      "photoUrl": "https://lh3.googleusercontent.com/a-/AOh14GgOryrdlri9oeQ0b9C0VoxeBQddhqUjl1k3fKla=s64",
      "userId": "12599837119363407512"
     },
     "user_tz": -330
    },
    "id": "xnpJRtnXLqCw",
    "outputId": "eedeb339-e3a7-4ce5-96ee-bc4a109775f9"
   },
   "outputs": [
    {
     "data": {
      "text/html": [
       "<div>\n",
       "<style scoped>\n",
       "    .dataframe tbody tr th:only-of-type {\n",
       "        vertical-align: middle;\n",
       "    }\n",
       "\n",
       "    .dataframe tbody tr th {\n",
       "        vertical-align: top;\n",
       "    }\n",
       "\n",
       "    .dataframe thead th {\n",
       "        text-align: right;\n",
       "    }\n",
       "</style>\n",
       "<table border=\"1\" class=\"dataframe\">\n",
       "  <thead>\n",
       "    <tr style=\"text-align: right;\">\n",
       "      <th></th>\n",
       "      <th>antecedents</th>\n",
       "      <th>consequents</th>\n",
       "      <th>antecedent support</th>\n",
       "      <th>consequent support</th>\n",
       "      <th>support</th>\n",
       "      <th>confidence</th>\n",
       "      <th>lift</th>\n",
       "      <th>leverage</th>\n",
       "      <th>conviction</th>\n",
       "    </tr>\n",
       "  </thead>\n",
       "  <tbody>\n",
       "    <tr>\n",
       "      <th>0</th>\n",
       "      <td>(23296)</td>\n",
       "      <td>(44156)</td>\n",
       "      <td>NaN</td>\n",
       "      <td>NaN</td>\n",
       "      <td>501.0</td>\n",
       "      <td>NaN</td>\n",
       "      <td>NaN</td>\n",
       "      <td>NaN</td>\n",
       "      <td>NaN</td>\n",
       "    </tr>\n",
       "    <tr>\n",
       "      <th>1</th>\n",
       "      <td>(44156)</td>\n",
       "      <td>(23296)</td>\n",
       "      <td>NaN</td>\n",
       "      <td>NaN</td>\n",
       "      <td>501.0</td>\n",
       "      <td>NaN</td>\n",
       "      <td>NaN</td>\n",
       "      <td>NaN</td>\n",
       "      <td>NaN</td>\n",
       "    </tr>\n",
       "    <tr>\n",
       "      <th>2</th>\n",
       "      <td>(196)</td>\n",
       "      <td>(46149)</td>\n",
       "      <td>NaN</td>\n",
       "      <td>NaN</td>\n",
       "      <td>570.0</td>\n",
       "      <td>NaN</td>\n",
       "      <td>NaN</td>\n",
       "      <td>NaN</td>\n",
       "      <td>NaN</td>\n",
       "    </tr>\n",
       "    <tr>\n",
       "      <th>3</th>\n",
       "      <td>(46149)</td>\n",
       "      <td>(196)</td>\n",
       "      <td>NaN</td>\n",
       "      <td>NaN</td>\n",
       "      <td>570.0</td>\n",
       "      <td>NaN</td>\n",
       "      <td>NaN</td>\n",
       "      <td>NaN</td>\n",
       "      <td>NaN</td>\n",
       "    </tr>\n",
       "    <tr>\n",
       "      <th>4</th>\n",
       "      <td>(44156)</td>\n",
       "      <td>(33548)</td>\n",
       "      <td>NaN</td>\n",
       "      <td>NaN</td>\n",
       "      <td>504.0</td>\n",
       "      <td>NaN</td>\n",
       "      <td>NaN</td>\n",
       "      <td>NaN</td>\n",
       "      <td>NaN</td>\n",
       "    </tr>\n",
       "  </tbody>\n",
       "</table>\n",
       "</div>"
      ],
      "text/plain": [
       "  antecedents consequents  antecedent support  ...  lift  leverage  conviction\n",
       "0     (23296)     (44156)                 NaN  ...   NaN       NaN         NaN\n",
       "1     (44156)     (23296)                 NaN  ...   NaN       NaN         NaN\n",
       "2       (196)     (46149)                 NaN  ...   NaN       NaN         NaN\n",
       "3     (46149)       (196)                 NaN  ...   NaN       NaN         NaN\n",
       "4     (44156)     (33548)                 NaN  ...   NaN       NaN         NaN\n",
       "\n",
       "[5 rows x 9 columns]"
      ]
     },
     "execution_count": 170,
     "metadata": {},
     "output_type": "execute_result"
    }
   ],
   "source": [
    "rules_mlx = association_rules(freq_itemset_df,support_only=True)\n",
    "#rules_mlx['antecedents'] = rules_mlx['antecedents'].astype('string')\n",
    "rules_mlx.head()"
   ]
  },
  {
   "cell_type": "markdown",
   "metadata": {
    "id": "tZIf3uoSQGPW"
   },
   "source": [
    "#### ---- Generating rules using pyfpgrowth ----"
   ]
  },
  {
   "cell_type": "code",
   "execution_count": null,
   "metadata": {
    "id": "gkU7ipRq-2v4"
   },
   "outputs": [],
   "source": [
    "rules_fp = fp.generate_association_rules(freq_itemset,0.4)"
   ]
  },
  {
   "cell_type": "code",
   "execution_count": null,
   "metadata": {
    "colab": {
     "base_uri": "https://localhost:8080/"
    },
    "executionInfo": {
     "elapsed": 11,
     "status": "ok",
     "timestamp": 1639409068825,
     "user": {
      "displayName": "52_Rajiwate AbdulBasit",
      "photoUrl": "https://lh3.googleusercontent.com/a-/AOh14GgOryrdlri9oeQ0b9C0VoxeBQddhqUjl1k3fKla=s64",
      "userId": "12599837119363407512"
     },
     "user_tz": -330
    },
    "id": "LdAoxEqDQXyg",
    "outputId": "a2b99c13-b893-4423-f01c-7ba23342b128"
   },
   "outputs": [
    {
     "data": {
      "text/plain": [
       "{(4605, 16797): ((24852,), 0.46850044365572313),\n",
       " (8174, 47209): ((13176,), 0.4466501240694789),\n",
       " (8277, 47209): ((13176,), 0.4212095400340716),\n",
       " (16797, 28204): ((24852,), 0.4814534443603331),\n",
       " (16797, 45066): ((24852,), 0.4873096446700508),\n",
       " (16797, 47626): ((24852,), 0.4173262972735268),\n",
       " (16797, 49683): ((24852,), 0.41186537364517967),\n",
       " (19057, 27966): ((13176,), 0.43211920529801323),\n",
       " (19057, 47209): ((13176,), 0.4238121245221191),\n",
       " (20114, 28842): ((26209,), 0.41766109785202865),\n",
       " (20114, 47626): ((26209,), 0.40189642596644787),\n",
       " (21137, 49683): ((24852,), 0.40661387983232417),\n",
       " (21709, 35221): ((44632,), 0.4702861335289802),\n",
       " (21709, 44632): ((35221,), 0.44637883008356544),\n",
       " (22825, 47209): ((13176,), 0.4194528875379939),\n",
       " (23296,): ((44156,), 0.4099836333878887),\n",
       " (28204, 47766): ((24852,), 0.42105263157894735),\n",
       " (28204, 49683): ((24852,), 0.44605358435916004),\n",
       " (31717, 47626): ((26209,), 0.40095302927161336),\n",
       " (39928, 47209): ((13176,), 0.4116331096196868),\n",
       " (41065,): ((45007,), 0.4338349766476388),\n",
       " (45066, 49683): ((24852,), 0.42741281427412814),\n",
       " (46149,): ((196,), 0.4244229337304542)}"
      ]
     },
     "execution_count": 166,
     "metadata": {},
     "output_type": "execute_result"
    }
   ],
   "source": [
    "rules_fp"
   ]
  },
  {
   "cell_type": "code",
   "execution_count": null,
   "metadata": {
    "id": "zbWqHDYZZScl"
   },
   "outputs": [],
   "source": []
  }
 ],
 "metadata": {
  "accelerator": "GPU",
  "colab": {
   "authorship_tag": "ABX9TyO/+HJZpdgsDtIHDZ9cmFzQ",
   "collapsed_sections": [
    "MgoIoTi_6TeG",
    "fD5JqljF6pRd",
    "Lpzk_tic6xlQ",
    "jvE8L2uq82Wh",
    "kOIMcqtQJxF6",
    "ER2wEA2ujrVC",
    "rRbhVoDOuRLz",
    "FfXcIjQtEpP-",
    "6xqMsXR4THC-",
    "4sCPzj7jB00e",
    "7ldCSM1EYMgz"
   ],
   "mount_file_id": "17NHmXJWwUcy1KAqMnhRVlfEJHbDjIJYp",
   "name": "3 Generating Frequent Itemsets and Mining Association Rules -- [Primary Objective].ipynb",
   "provenance": []
  },
  "kernelspec": {
   "display_name": "Python 3",
   "language": "python",
   "name": "python3"
  },
  "language_info": {
   "codemirror_mode": {
    "name": "ipython",
    "version": 3
   },
   "file_extension": ".py",
   "mimetype": "text/x-python",
   "name": "python",
   "nbconvert_exporter": "python",
   "pygments_lexer": "ipython3",
   "version": "3.8.8"
  }
 },
 "nbformat": 4,
 "nbformat_minor": 1
}
